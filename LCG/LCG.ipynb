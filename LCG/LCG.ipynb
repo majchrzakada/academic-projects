{
 "cells": [
  {
   "cell_type": "markdown",
   "metadata": {},
   "source": [
    "### Problem I\n"
   ]
  },
  {
   "cell_type": "markdown",
   "metadata": {},
   "source": [
    "#### Podpunkt a"
   ]
  },
  {
   "cell_type": "markdown",
   "metadata": {},
   "source": [
    "Generator liniowy kongruentny (LCG - Linear Congruential Generator) - metoda generowania liczb pseudolosowych, polegająca na obliczaniu kolejnych liczb $x_1, x_2, \\dots, x_n$ z zakresu od $0$ do $m-1$ na podstawie wzoru: <br>\n",
    "$$x_{k} = a \\cdot (x_{k-1} + c) \\; mod \\; m,$$ <br>\n",
    "gdzie $x_1$ jest tzw. ziarnem, czyli początkową wartością, którą inicjujemy generator. Warto wspomnieć o dwóch cechach takiego generatora:\n",
    "* jest deterministyczny - zainicjowany tym samym ziarnem, zwróci taki sam ciąg pseudolosowych liczb,\n",
    "* jeżeli kolejna wygenerowana liczba powtarza się w ciągu liczb już wygenerowanych to generator wpada w cykl. <br><br>\n",
    "\n",
    "Bardzo ważne w konstrukcji dobrego generatora liniowego (czyli takiego, który ma jak najdłuższy cykl) jest odpowiednie dobranie współczynników $m$, $a$ i $c$. <br>\n",
    "W naszym przypadku domyślnie przyjmują one takie same wartości jak w generatorze DERIVE ($m=2^{32}$, $a=3141592653$, $c=1$)[[1](#bibliografia)]."
   ]
  },
  {
   "cell_type": "code",
   "execution_count": 1,
   "metadata": {},
   "outputs": [],
   "source": [
    "def LCG(m = 2**32, a = 3141592653, c = 1, seed = 1829309827820):\n",
    "    \"\"\"\n",
    "    Linear congruential generator.\n",
    "    \n",
    "    Args:\n",
    "        m (int): the modulus\n",
    "        a (int): the multiplier\n",
    "        c (int): the increment\n",
    "        seed (int): starting value\n",
    "    \n",
    "    Returns:\n",
    "        Yields a sequence of pseudo-randomized numbers.   \n",
    "    \"\"\"\n",
    "    x1 = seed\n",
    "    while True:\n",
    "        xk = (a * x1 + c) % (m)\n",
    "        x1 = xk\n",
    "        yield xk"
   ]
  },
  {
   "cell_type": "markdown",
   "metadata": {},
   "source": [
    "Mamy więc już liniowy kongruentny generator liczb pesudolosowych. Teraz przy jego pomocy definiujemy funkcję, która będzie zwracać $n$ pseudolosowych liczb całkowitych z zadanego przedziału domkniętego $\\left[a, b \\right]$:"
   ]
  },
  {
   "cell_type": "code",
   "execution_count": 2,
   "metadata": {},
   "outputs": [],
   "source": [
    "def rand_ints(n, a, b, m = 2**32):\n",
    "    \"\"\"\n",
    "    Function that uses linear congruential generator to generate pseudo-randomized integers in given range.\n",
    "    \n",
    "    Args:\n",
    "        n (int): number of integers to generate\n",
    "        a (float or int): lower boundary of desired range\n",
    "        b (float or int): upper boundary of desired range\n",
    "        m (int): the modulus\n",
    "    \n",
    "    Returns:\n",
    "        n-element list of integers in range [a, b]\n",
    "    \"\"\"\n",
    "    data = []\n",
    "    generator = LCG()  \n",
    "    for i in range(n):\n",
    "        observation = next(generator) / m \n",
    "        data.append(round(observation * (b - a) + a))\n",
    "    return data"
   ]
  },
  {
   "cell_type": "markdown",
   "metadata": {},
   "source": [
    "#### Podpunkty b i c"
   ]
  },
  {
   "cell_type": "markdown",
   "metadata": {},
   "source": [
    "Skoro możemy już generować pseudolosowe liczby całkowite, pora na kolejny krok - próby losowe z rozkładu jednostajnego. Aby zapewnić losowość generatora, zamiast ustalać z góry wartość ziarna, ustawiamy ją jako obecny czas systemowy (wyrażony w sekundach) pomnożony przez $1000$ i zaokrąglony do części całkowitej. <br>\n",
    "Testując nasz generator, będziemy operować na próbach losowych z rozkładu $\\mathit{U}\\left(\\left(0, 1\\right) \\cup \\left(2^{64}-1, 2^{64}\\right)\\right)$. Tu pojawia się pierwszy problem - w arytmetyce zmiennoprzecinkowej część bitów przeznaczona jest na zapisywanie cyfr, a pozostałe na to, w którym miejscu stawiamy przecinek. Dlatego w przypadku bardzo dużych liczb, zwykły pythonowy float będzie wypisywał przybliżoną do części całkowitej wartość - wszystkie bity zostaną zużyte na zapisanie cyfr, z których dana liczba się składa. Tu pomocny okazuje się moduł $\\textbf{decimal}$, pozwalający wypisywać nawet bardzo duże liczby zmiennoprzecinkowe z wybraną dokładnością."
   ]
  },
  {
   "cell_type": "code",
   "execution_count": 3,
   "metadata": {},
   "outputs": [],
   "source": [
    "import numpy as np\n",
    "import time\n",
    "import decimal as d"
   ]
  },
  {
   "cell_type": "markdown",
   "metadata": {},
   "source": [
    "W pierwszej kolejności definiujemy funkcję generującą próbę losową długości $n$ z rozkładu $\\mathit{U}(a, b)$."
   ]
  },
  {
   "cell_type": "code",
   "execution_count": 4,
   "metadata": {},
   "outputs": [],
   "source": [
    "def rand_unifs(n, a, b, prec):\n",
    "    \"\"\"\n",
    "    Function that uses linear congruential generator to draw samples from uniform distribution.\n",
    "    \n",
    "    Args:\n",
    "        n (int): sample length\n",
    "        a (float or int): lower boundary of the output interval\n",
    "        b (float or int): upper boundary of the output interval\n",
    "        prec (int): decimal precision\n",
    "    \n",
    "    Returns:\n",
    "        sample of n variables from uniform distribution over the (a, b) interval\n",
    "    \"\"\"\n",
    "    d.getcontext().prec = prec\n",
    "    t = time.time() # losowe ziarno - wykorzystujemy aktualny czas systemowy\n",
    "    seed = int(round(t * 1000, 0))\n",
    "    data = []\n",
    "    generator = LCG(seed = seed) \n",
    "    for i in range(n):\n",
    "        observation = d.Decimal(b - a) * next(generator) / 2 ** 32 + a\n",
    "        data.append(observation)\n",
    "    return data"
   ]
  },
  {
   "cell_type": "markdown",
   "metadata": {},
   "source": [
    "Teraz, na potrzeby zadania, implementujemy funkcję, która będzie zwracać próbkę zmiennych losowych z rozkładu $\\mathit{U}\\left(\\left(0, 1\\right) \\cup \\left(2^{64}-1, 2^{64}\\right)\\right)$ za pomocą następującego algorytmu: <br>\n",
    "1. Losuj n razy liczbę całkowitą z przedziału [0, 1]\n",
    "2. Jeśli wypada 0, generuj zmienne losowe z przedziału (0, 1); jeśli 1, generuj z przedziału $\\left(2^{64}-1, 2^{64}\\right)$; dla wygody generujemy w dwóch osobnych listach\n",
    "3. Zwróć tuplę z otrzymanych list."
   ]
  },
  {
   "cell_type": "code",
   "execution_count": 5,
   "metadata": {},
   "outputs": [],
   "source": [
    "def unif_samples(n):\n",
    "    \"\"\"\n",
    "    Function to draw samples from uniform distribution over intervals (0, 1) and (2**64-1, 2**64). \n",
    "    \n",
    "    Args:\n",
    "        n (int): sample length\n",
    "        \n",
    "    Returns:\n",
    "        sample of n variables from uniform distribution over the (0, 1) and (2**64-1, 2**64) intervals \n",
    "    \"\"\"\n",
    "    us = rand_ints(n, 0, 1) \n",
    "    zeros = us.count(0)\n",
    "    ones = us.count(1)\n",
    "    urands1 = rand_unifs(zeros, 0, 1, 8) \n",
    "    urands2 = rand_unifs(ones, 2**64 - 1, 2**64, 28) \n",
    "    return urands1, urands2"
   ]
  },
  {
   "cell_type": "markdown",
   "metadata": {},
   "source": [
    "#### Podpunkt d"
   ]
  },
  {
   "cell_type": "markdown",
   "metadata": {},
   "source": [
    "Aby pokazać, że nasz program działa poprawnie, zwizualizujemy otrzymane dane za pomocą wykresów - porównamy dystrybuantę empiryczną wygenerowanej próby losowej z dystrybuantą teoretyczną rozkładu jednostajnego na zadanych przedziałach oraz sporządzimy wykres punktów $\\left(X_{i}, X_{i+1}\\right)$."
   ]
  },
  {
   "cell_type": "code",
   "execution_count": 6,
   "metadata": {},
   "outputs": [],
   "source": [
    "import matplotlib.pyplot as plt\n",
    "import collections as cl\n",
    "from scipy.stats import uniform\n",
    "import decimal as d"
   ]
  },
  {
   "cell_type": "code",
   "execution_count": 7,
   "metadata": {},
   "outputs": [],
   "source": [
    "plt.rcParams[\"figure.figsize\"] = [10, 7] # ustalamy rozmiar wykresów, domyślne są mało czytelne"
   ]
  },
  {
   "cell_type": "markdown",
   "metadata": {},
   "source": [
    "Na początek definiujemy funkcję, która będzie rysować dystrybuantę empiryczną próby losowej na zadanych przedziałach. Jako argumenty przyjmować będzie listy zmiennych losowych z obu przedziałów oraz kolor linii (domyślnie niebieski)."
   ]
  },
  {
   "cell_type": "code",
   "execution_count": 8,
   "metadata": {},
   "outputs": [],
   "source": [
    "def drawdemp(rv, rv1, color = \"blue\"):\n",
    "    \"\"\"\n",
    "    Function to plot empirical cdf.\n",
    "    \n",
    "    Args:\n",
    "        rv (list): random variables sample\n",
    "        rv1 (list): random variables sample\n",
    "        color (string): linecolor\n",
    "    \n",
    "    Returns:\n",
    "        Plot of empirical cdf\n",
    "    \"\"\"\n",
    "    data = cl.Counter(rv)\n",
    "    data1 = cl.Counter(rv1)\n",
    "    s_data = cl.OrderedDict(sorted(data.items()))\n",
    "    s_data1 = cl.OrderedDict(sorted(data1.items()))\n",
    "    xs = list(s_data.keys())\n",
    "    xs1 = list(s_data1.keys())\n",
    "    n = len(rv)\n",
    "    n1 = len(rv1)\n",
    "    li = [i[1] / n for i in s_data.items()]\n",
    "    li1 = [i[1] / n1 for i in s_data1.items()]\n",
    "    data = np.zeros(len(li) + 1)\n",
    "    data1 = np.zeros(len(li1) + 1)\n",
    "    data[1:] = np.cumsum([li])\n",
    "    data1[1:] = np.cumsum([li1])\n",
    "    xs.append(xs[-1] + 2)\n",
    "    xs1.append(xs1[-1] + 2)\n",
    "    plt.hlines(0, xs[0] - 2, xs[0], color = color)\n",
    "    plt.hlines(0.5, xs1[0] - 2, xs1[0], color = color)\n",
    "    plt.step(xs, data/2, color = color)\n",
    "    plt.step(xs1, data1/2 + 0.5, color = color, label=\"Dystrybuanta empiryczna\")\n",
    "    plt.xlim(0, max(rv1))"
   ]
  },
  {
   "cell_type": "markdown",
   "metadata": {},
   "source": [
    "Mamy już zaimplementowaną funkcję rysującą dystrybuantę empiryczną, teoretycznie więc możemy już wyświetlić wykres. Tu jednak napotykamy kolejny poważny problem - przedziały $(0, 1)$ i $\\left(2^{64}-1, 2^{64}\\right)$ są od siebie zbyt oddalone, by móc przedstawić je na jednym wykresie. Możemy jednak w prosty sposób obejść tę przeszkodę - wystarczy przesunąć drugi przedział, np. o $18446744073709551610$ jednostek w lewo."
   ]
  },
  {
   "cell_type": "code",
   "execution_count": 9,
   "metadata": {},
   "outputs": [],
   "source": [
    "data = unif_samples(1000)\n",
    "u1 = data[0]\n",
    "u2 = [i - 18446744073709551610 for i in data[1]] # przesuwamy drugi przedział"
   ]
  },
  {
   "cell_type": "markdown",
   "metadata": {},
   "source": [
    "Po takiej operacji możemy już bez problemu zwizualizować wygenerowane dane i porównać je z teoretyczną dystrybuantą rozkładu $\\mathit{U}\\left(\\left(0, 1\\right) \\cup \\left(2^{64}-1, 2^{64}\\right)\\right)$. Dla próby długości $1000$ prezentuje się to następująco:"
   ]
  },
  {
   "cell_type": "code",
   "execution_count": 10,
   "metadata": {},
   "outputs": [
    {
     "data": {
      "image/png": "[encoded data removed]",
      "text/plain": [
       "<Figure size 720x504 with 1 Axes>"
      ]
     },
     "metadata": {
      "needs_background": "light"
     },
     "output_type": "display_data"
    }
   ],
   "source": [
    "drawdemp(u1, u2, color=\"indigo\")\n",
    "\n",
    "p1 = np.linspace(0, 1, 1000)\n",
    "p2 = np.linspace(1, 6, 5000)\n",
    "plt.plot(p1, uniform.cdf(p1)/2, color=\"limegreen\")\n",
    "plt.plot(p2, uniform.cdf(p2, loc=5, scale=1)/2 + 0.5, color=\"limegreen\", label=\"Dystrybuanta teoretyczna\")\n",
    "\n",
    "plt.xticks([0, 1, 2, 3, 4, 5, 6],[0, 1, 2, 3, \"...\", \"$2^{64}-1$\", \"$2^{64}$\"])\n",
    "plt.title(\"Porównanie dystrybuanty empirycznej i teoretycznej\", fontsize=18)\n",
    "plt.xlabel(\"x\", fontsize=16)\n",
    "plt.ylabel(\"F(x)\", fontsize=16)\n",
    "plt.legend()\n",
    "plt.grid()\n",
    "pass"
   ]
  },
  {
   "cell_type": "markdown",
   "metadata": {},
   "source": [
    "Widzimy, że otrzymane wykresy dobrze się pokrywają. Można stąd wnioskować, że nasz generator liczb losowych działa poprawnie. Jednak żeby lepiej zbadać jego działanie, dobrze nie poprzestawać tylko na jednym sposobie wizualizacji. Oprócz porównania dystrybuant, dobrą metodą testowania poprawności generatora jest sporządzenie wykresu punktów $\\left(X_{i}, X_{i+1}\\right)$.\n"
   ]
  },
  {
   "cell_type": "code",
   "execution_count": 11,
   "metadata": {},
   "outputs": [],
   "source": [
    "data1 = unif_samples(10000) # tym razem próba długości 10000\n",
    "p1 = data1[0]\n",
    "p2 = [i - 18446744073709551610 for i in data[1]] # znów przesuwamy drugi przedział\n",
    "points = p1 + p2"
   ]
  },
  {
   "cell_type": "code",
   "execution_count": 12,
   "metadata": {},
   "outputs": [
    {
     "data": {
      "image/png": "[encoded data removed]",
      "text/plain": [
       "<Figure size 720x504 with 1 Axes>"
      ]
     },
     "metadata": {
      "needs_background": "light"
     },
     "output_type": "display_data"
    }
   ],
   "source": [
    "plt.scatter(np.array(points[:-1]), np.array(points[1:]), c=\"darkred\", marker=\".\")\n",
    "plt.title(\"Wykres punktów $(X_{i}, X_{i+1})$\", fontsize=18)\n",
    "plt.xlabel(\"$X_{i}$\", fontsize=16)\n",
    "plt.ylabel(\"$X_{i+1}$\", fontsize=16)\n",
    "plt.xticks([0, 1, 2, 3, 4, 5, 6],[0, 1, 2, 3, \"$\\dots$\", \"$2^{64}-1$\", \"$2^{64}$\"])\n",
    "plt.yticks([0, 1, 2, 3, 4, 5, 6],[0, 1, 2, 3, \"$\\dots$\", \"$2^{64}-1$\", \"$2^{64}$\"])\n",
    "plt.grid()\n",
    "pass"
   ]
  },
  {
   "cell_type": "markdown",
   "metadata": {},
   "source": [
    "Z powyższego wykresu widzimy, że zmienne losowe zwracane przez nasz generator zawierają się w odpowiednich przedziałach, zatem kolejny test wypada pozytywnie."
   ]
  },
  {
   "cell_type": "markdown",
   "metadata": {},
   "source": [
    "#### Podpunkt e"
   ]
  },
  {
   "cell_type": "markdown",
   "metadata": {},
   "source": [
    "Oprócz graficznej wizualizacji danych, warto też przyjrzeć się statystykom liczbowym. Dwie podstawowe statystyki, które zbadamy w pierwszej kolejności, to średnia i wariancja próbkowa, wyrażone kolejno wzorami: <br><br>\n",
    "$$\\overline{X} = \\frac{x_1 + x_2 + \\dots + x_{n}}{n}$$ <br>\n",
    "$$\\sigma^2 = \\frac{\\left(x_1 - \\overline{X}\\right)^2 + \\left(x_2 - \\overline{X}\\right)^2 + \\dots + \\left(x_{n} - \\overline{X}\\right)^2}{n}$$ <br>\n"
   ]
  },
  {
   "cell_type": "code",
   "execution_count": 13,
   "metadata": {},
   "outputs": [],
   "source": [
    "import numpy as np\n",
    "import decimal as d"
   ]
  },
  {
   "cell_type": "code",
   "execution_count": 14,
   "metadata": {},
   "outputs": [],
   "source": [
    "d.getcontext().prec = 28"
   ]
  },
  {
   "cell_type": "code",
   "execution_count": 15,
   "metadata": {},
   "outputs": [],
   "source": [
    "data2 = unif_samples(10000) # znów próba długości 10000\n",
    "us1 = data2[0]\n",
    "us2 = data2[1] "
   ]
  },
  {
   "cell_type": "code",
   "execution_count": 16,
   "metadata": {},
   "outputs": [
    {
     "name": "stdout",
     "output_type": "stream",
     "text": [
      "Średnia próbkowa: 9356188594185484579.627501061\n",
      "Wariancja próbkowa: 8.505295149233343440661853857E+37\n"
     ]
    }
   ],
   "source": [
    "alldata = us1 + us2\n",
    "mean = d.Decimal(sum(alldata) / len(alldata))\n",
    "var = d.Decimal(sum([(i - mean)**2 for i in alldata])  / len(alldata))\n",
    "print(f\"Średnia próbkowa: {mean}\")\n",
    "print(f\"Wariancja próbkowa: {var}\")"
   ]
  },
  {
   "cell_type": "markdown",
   "metadata": {},
   "source": [
    "Otrzymane wyniki porównamy teraz ze średnią i wariancją próby tej samej długości, ale wygenerowanej za pomocą wbudowanego generatora $\\textbf{random.uniform}$ z modułu $\\textbf{numpy}$."
   ]
  },
  {
   "cell_type": "code",
   "execution_count": 17,
   "metadata": {},
   "outputs": [],
   "source": [
    "us3 = list(np.random.uniform(0, 1, size = len(us1)))\n",
    "us3 = [d.Decimal(i) for i in us3]\n",
    "us4 = np.random.uniform(0, 1, size = len(us2)) # nie można od razu wygenerować zmiennych z drugiego przedziału\n",
    "us4 = [d.Decimal(2**64 - 1) + d.Decimal(i) for i in us4] # dlatego generujemy ponownie z przedziału (0, 1) i przesuwamy\n",
    "alldata2 = us3 + us4"
   ]
  },
  {
   "cell_type": "code",
   "execution_count": 18,
   "metadata": {},
   "outputs": [
    {
     "name": "stdout",
     "output_type": "stream",
     "text": [
      "Średnia próbkowa: 9356188594185484579.624382725\n",
      "Wariancja próbkowa: 8.505295149233343440653864022E+37\n"
     ]
    }
   ],
   "source": [
    "mean2 = d.Decimal(sum(alldata2) / len(alldata2))\n",
    "var2 = d.Decimal(sum([(i - mean2)**2 for i in alldata2])  / len(alldata2))\n",
    "print(f\"Średnia próbkowa: {mean2}\")\n",
    "print(f\"Wariancja próbkowa: {var2}\")"
   ]
  },
  {
   "cell_type": "markdown",
   "metadata": {},
   "source": [
    "Widzimy, że otrzymane na oba sposoby zarówno średnia, jak i wariancja, różnią się od siebie bardzo nieznacznie, zatem nasz generator przeszedł kolejny test."
   ]
  },
  {
   "cell_type": "markdown",
   "metadata": {},
   "source": [
    "Na koniec wykonamy test zgodności Kołmogorowa-Smirnowa, który pozwala sprawdzić, czy rozkład dla pewnej zmiennej losowej, różni się od założonego rozkładu teoretycznego, gdy znana jest jedynie pewna skończona liczba obserwacji tej zmiennej (próba statystyczna). [[2](#bibliografia)] Ogólnie przyjmuje się, że próba jest zgodna z założonym rozkładem, jeśli otrzymana w wyniku testu p-wartość jest większa niż $0.05$."
   ]
  },
  {
   "cell_type": "markdown",
   "metadata": {},
   "source": [
    "Test wykonamy za pomocą funkcji $\\textbf{kstest}$ z biblioteki $\\textbf{scipy.stats}$. "
   ]
  },
  {
   "cell_type": "code",
   "execution_count": 19,
   "metadata": {},
   "outputs": [],
   "source": [
    "from scipy.stats import kstest, uniform"
   ]
  },
  {
   "cell_type": "markdown",
   "metadata": {},
   "source": [
    "Aby wykonać test, potrzebujemy prób losowych z obu przedziałów, przekonwertowanych na floaty. Wobec tego musimy znów przesunąć przedział $\\left(2^{64}-1, 2^{64}\\right)$ o $18446744073709551610$ jednostek w lewo - inaczej nie uzyskamy pożądanej dokładności."
   ]
  },
  {
   "cell_type": "code",
   "execution_count": 20,
   "metadata": {},
   "outputs": [],
   "source": [
    "data3 = unif_samples(10000) # próba długości 10000\n",
    "ks1 = data3[0]\n",
    "ks2 = [i - 18446744073709551610 for i in data3[1]] # przesuwamy drugi przedział"
   ]
  },
  {
   "cell_type": "code",
   "execution_count": 21,
   "metadata": {},
   "outputs": [],
   "source": [
    "ks1 = [float(i) for i in ks1] # konwertujemy decimal na float\n",
    "ks2 = [float(i) for i in ks2]"
   ]
  },
  {
   "cell_type": "code",
   "execution_count": 22,
   "metadata": {},
   "outputs": [],
   "source": [
    "unif1 = lambda x: uniform.cdf(x)\n",
    "unif2 = lambda x: uniform.cdf(x, loc=5, scale=1) # po przesunięciu mamy przedział (5, 6)"
   ]
  },
  {
   "cell_type": "markdown",
   "metadata": {},
   "source": [
    "Mamy wygenerowane próby oraz dystrybuanty zdefiniowane na obu przedziałach, teraz testy zgodności:"
   ]
  },
  {
   "cell_type": "code",
   "execution_count": 23,
   "metadata": {},
   "outputs": [
    {
     "name": "stdout",
     "output_type": "stream",
     "text": [
      "KS-test for first interval: True\n",
      "KS-test for second interval: True\n"
     ]
    }
   ],
   "source": [
    "print(f\"KS-test for first interval: {kstest(ks1, unif1).pvalue > 0.05}\")\n",
    "print(f\"KS-test for second interval: {kstest(ks2, unif2).pvalue > 0.05}\")"
   ]
  },
  {
   "cell_type": "markdown",
   "metadata": {},
   "source": [
    "Widzimy, że w obu przypadkach otrzymujemy p-wartość $> 0.05$, a zatem nasz generator pomyślnie przeszedł test zgodności Kołmogorowa-Smirnowa."
   ]
  },
  {
   "cell_type": "markdown",
   "metadata": {},
   "source": [
    "### Podsumowanie"
   ]
  },
  {
   "cell_type": "markdown",
   "metadata": {},
   "source": [
    "Opracowany powyżej problem niósł ze sobą wiele trudności - największą z nich okazała się arytmetyka zmiennoprzecinkowa, która przy dostatecznie dużych liczbach traci konieczną tutaj precyzję. Wymagało to znalezienia sposobu na inną reprezentację liczb, w czym na szczęście Python, ze swoją mnogością modułów, okazał się niezawodny. \n",
    "Jednak badany rozkład przysporzył kłopotów nie tylko w tej jednej kwestii. Z racji tego, że oba przedziały, na których został zdefiniowany, są bardzo od siebie oddalone, problematyczna okazała się także wizualizacja generowanych danych. Naszym pomysłem na obejście tej przeszkody było przesunięcie przedziału tak, by dało się wszystkie dane umieścić na jednym wykresie. Co prawda jest to swego rodzaju oszustwo, jednak końcowy efekt zdaje się być zadowalający.<br><br>\n",
    "Wszystkich napotkanych trudności oczywiście nie sposób spamiętać, a co dopiero rzetelnie omówić, dlatego poprzestaniemy na wyżej wymienionych."
   ]
  },
  {
   "cell_type": "markdown",
   "metadata": {},
   "source": [
    "### Źródła"
   ]
  },
  {
   "cell_type": "markdown",
   "metadata": {},
   "source": [
    "<a id=\"bibliografia\"></a>\n",
    "[1] http://www.algorytm.org/liczby-pseudolosowe/generator-lcg-liniowy-generator-kongruentny.html <br>\n",
    "[2] https://pl.wikipedia.org/wiki/Test_Ko%C5%82mogorowa-Smirnowa <br>"
   ]
  }
 ],
 "metadata": {
  "kernelspec": {
   "display_name": "Python 3",
   "language": "python",
   "name": "python3"
  },
  "language_info": {
   "codemirror_mode": {
    "name": "ipython",
    "version": 3
   },
   "file_extension": ".py",
   "mimetype": "text/x-python",
   "name": "python",
   "nbconvert_exporter": "python",
   "pygments_lexer": "ipython3",
   "version": "3.8.1"
  }
 },
 "nbformat": 4,
 "nbformat_minor": 4
}
