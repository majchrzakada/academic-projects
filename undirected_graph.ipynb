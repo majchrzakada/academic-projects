{
 "cells": [
  {
   "cell_type": "code",
   "execution_count": 173,
   "metadata": {},
   "outputs": [],
   "source": [
    "import numpy as np\n",
    "from itertools import compress"
   ]
  },
  {
   "cell_type": "code",
   "execution_count": 174,
   "metadata": {},
   "outputs": [],
   "source": [
    "class Graph:\n",
    "    \"\"\"\n",
    "        Class representing an undirected graph structure. Takes one optional argument,\n",
    "        gtype, denoting if the graph shoulb be weighted or not ('Unweighted' by default, can be set as 'Weighted').\n",
    "        \n",
    "        Params:\n",
    "            self.veritces - vertex list,\n",
    "            self.edges - edge list,\n",
    "            self.type - graph type (weighted/unweighted).\n",
    "    \"\"\"\n",
    "    \n",
    "    def __init__(self, gtype = 'Unweighted'): # unweighted by default\n",
    "        self.vertices = []\n",
    "        self.edges = []\n",
    "        self.type = gtype\n",
    "    \n",
    "    def addVertex(self, vert):\n",
    "        \"\"\"\n",
    "            Adds new vertex to the graph. Takes one argument, vert, representing the vertex to add (can be of any type).\n",
    "            If vert already exists in the graph, it won't be doubled.\n",
    "        \"\"\"\n",
    "        \n",
    "        self.vertices.append(vert)\n",
    "        self.vertices = list(set(self.vertices)) # remove duplicates\n",
    "        \n",
    "    def addVerticesFromList(self, vertList):\n",
    "        \"\"\"\n",
    "            Adds vertices from list to the graph. Takes one argument, vertList, representing the vertices to add \n",
    "            (has to be of type list). If any of the vertices already exist, they won't be doubled.\n",
    "        \"\"\"\n",
    "        \n",
    "        assert type(vertList) == list\n",
    "        assert len(vertList) > 0\n",
    "        self.vertices.extend(vertList)\n",
    "        self.vertices = list(set(self.vertices))\n",
    "    \n",
    "    def addEdge(self, fromVert, toVert, weight = None):  \n",
    "        \"\"\"\n",
    "            Adds new edge to the graph. Takes two required arguments, fromVert and toVert, representing the vertices on both \n",
    "            sides of the edge to add (can be of any type) and one optional argument, weight, representing weight of the edge\n",
    "            (has to be of type float).\n",
    "            If edge already exists in the graph, it won't be doubled.\n",
    "        \"\"\"\n",
    "        \n",
    "        if self.vertices.count(fromVert) == 0:\n",
    "            self.vertices.append(fromVert)\n",
    "        elif self.vertices.count(toVert) == 0:\n",
    "            self.vertices.append(toVert)\n",
    "        \n",
    "        if self.type == 'Weighted':\n",
    "            assert type(weight) == float\n",
    "            edges = [list(i.keys())[0] for i in self.edges]\n",
    "            edge = (fromVert, toVert)\n",
    "            if edges.count(edge[::-1]) > 0 or edges.count(edge) > 0: # check if reverse or duplicate edge exists\n",
    "                pass \n",
    "            else:\n",
    "                edge = {(fromVert, toVert):weight}\n",
    "                self.edges.append(edge)\n",
    "                \n",
    "        elif self.type == 'Unweighted':\n",
    "            edge = (fromVert, toVert)\n",
    "            if self.edges.count(edge[::-1]) > 0 or self.edges.count(edge) > 0:\n",
    "                pass\n",
    "            else:\n",
    "                self.edges.append(edge)\n",
    "    \n",
    "    def addEdgesFromList(self, edgeList, weightList = None):\n",
    "        \"\"\"\n",
    "            Adds edges from list to the graph. Takes one required argument, edgeList, representing the edges to add \n",
    "            (has to be of type list), and one optional argument, weightList, representing weigths of the edges\n",
    "            (has to be list of floats). \n",
    "            If any of the vertices already exist, they won't be doubled.\n",
    "        \"\"\"\n",
    "        \n",
    "        assert type(edgeList) == list\n",
    "        assert len(edgeList) > 0\n",
    "        assert all(isinstance(i, tuple) for i in edgeList)\n",
    "        assert all(len(i) == 2 for i in edgeList)\n",
    "        \n",
    "        verts1 = set([item for i in edgeList for item in i]) # convert list of tuples to list, use set to extract unique\n",
    "        verts2 = set(self.vertices)\n",
    "        diff = list(verts1 - verts2) # check if all vertices from edgeList are in the self.vertices list\n",
    "        if len(diff) > 0:\n",
    "            self.vertices.extend(diff) # if not, extend the self.vertices list\n",
    "        \n",
    "        if self.type == 'Weighted':\n",
    "            assert all(isinstance(i, float) for i in weightList)\n",
    "            assert len(weightList) == len(edgeList)\n",
    "            edges = [list(i.keys())[0] for i in self.edges]\n",
    "            no_duplicate = [edges.count(edgeList[i]) == 0 for i in range(len(edgeList))] # filter out duplicate edges\n",
    "            edgeList = list(compress(edgeList, no_duplicate))\n",
    "            weightList = list(compress(weightList, no_duplicate))\n",
    "            no_reverse = [edges.count(edgeList[i][::-1]) == 0 for i in range(len(edgeList))] # filter out reverse edges\n",
    "            edgeList = list(compress(edgeList, no_reverse))\n",
    "            weightList = list(compress(weightList, no_reverse))\n",
    "            self.edges.extend([{edgeList[i]:weightList[i]} for i in range(len(edgeList))])\n",
    "            \n",
    "        elif self.type == 'Unweighted':\n",
    "            no_duplicate = [self.edges.count(edgeList[i]) == 0 for i in range(len(edgeList))]\n",
    "            edgeList = list(compress(edgeList, no_duplicate))\n",
    "            no_reverse = [self.edges.count(edgeList[i][::-1]) == 0 for i in range(len(edgeList))]\n",
    "            edgeList = list(compress(edgeList, no_reverse))\n",
    "            self.edges.extend(edgeList)\n",
    " \n",
    "    def getVertices(self):\n",
    "        \"\"\"\n",
    "            Returns list of vertices.\n",
    "        \"\"\"\n",
    "        \n",
    "        return self.vertices\n",
    "    \n",
    "    def getEdges(self):\n",
    "        \"\"\"\n",
    "            Returns list of edges.\n",
    "        \"\"\"\n",
    "        \n",
    "        return self.edges\n",
    "    \n",
    "    def getNeighbours(self, vertKey):\n",
    "        \"\"\"\n",
    "            Returns list of neighbours for given vertex - vertKey.\n",
    "        \"\"\"\n",
    "        \n",
    "        assert vertKey in self.vertices\n",
    "        \n",
    "        if self.type == 'Weighted':\n",
    "            edges = [list(i.keys())[0] for i in self.edges]\n",
    "            contains = [vertKey in i for i in edges]\n",
    "            pairs = list(compress(edges, contains))\n",
    "            singles = [item for i in pairs for item in i]\n",
    "            is_neighbour = [i != vertKey for i in singles]\n",
    "            neighbours = list(compress(singles, is_neighbour))\n",
    "        \n",
    "        elif self.type == 'Unweighted':\n",
    "            contains = [vertKey in i for i in self.edges]\n",
    "            pairs = list(compress(self.edges, contains))\n",
    "            singles = [item for i in pairs for item in i]\n",
    "            is_neighbour = [i != vertKey for i in singles]\n",
    "            neighbours = list(compress(singles, is_neighbour))\n",
    "            \n",
    "        return neighbours\n",
    "    \n",
    "    def inGraph(self, vertKey):\n",
    "        \"\"\"\n",
    "            Returns True if vertex (vertKey) in graph and False otherwise.\n",
    "        \"\"\"\n",
    "        \n",
    "        if self.vertices.count(vertKey) > 0:\n",
    "            return True\n",
    "        else:\n",
    "            return False\n",
    "        \n",
    "    def saveGraph(self, filename, graphname):\n",
    "        \"\"\"\n",
    "            Writes DOT representation of graph to .txt file. Takes two arguments - filename, denoting name \n",
    "            of the resulting file and graphname, denoting name of the graph (both have to be of type string).\n",
    "        \"\"\"\n",
    "        \n",
    "        if self.type == 'Weighted':\n",
    "            edges = [list(i.keys())[0] for i in self.edges]\n",
    "            weights = [list(i.values())[0] for i in self.edges]\n",
    "            f = open(filename + '.txt', 'w')\n",
    "            f.write('graph ' + graphname + ' {\\n')\n",
    "            for i in range(len(edges)):\n",
    "                f.write('\\t' + str(edges[i][0]) + ' -- ' + str(edges[i][1]) + ' [label=' + str(weights[i]) + '];\\n')\n",
    "            f.write('}')\n",
    "            f.close()\n",
    "            \n",
    "        elif self.type == 'Unweighted':\n",
    "            f = open(filename + '.txt', 'w')\n",
    "            f.write('graph ' + graphname + ' {\\n')\n",
    "            for i in self.edges:\n",
    "                f.write('\\t' + str(i[0]) + ' -- ' + str(i[1]) + ';\\n')\n",
    "            f.write('}')\n",
    "            f.close()\n",
    "            \n",
    "    def getShortestPaths(self, vertKey):\n",
    "        \"\"\"\n",
    "            Calculates shortest paths from given vertex (vertKey) to all other vertices. \n",
    "        \"\"\"\n",
    "        \n",
    "        paths = {vertKey: 0}\n",
    "        neighbours = self.getNeighbours(vertKey) \n",
    "        c = 1\n",
    "        while len(neighbours) > 0:\n",
    "            add_paths = {i: c for i in neighbours}\n",
    "            paths.update(add_paths)\n",
    "            n = len(neighbours)\n",
    "            for i in range(n):\n",
    "                nbr = neighbours[i]\n",
    "                next_nbrs = self.getNeighbours(nbr)\n",
    "                in_paths = [j not in paths.keys() for j in next_nbrs]\n",
    "                keepers = list(compress(next_nbrs, in_paths))\n",
    "                neighbours.extend(keepers)\n",
    "            neighbours = neighbours[n:]\n",
    "            c += 1\n",
    "        return paths"
   ]
  },
  {
   "cell_type": "code",
   "execution_count": 175,
   "metadata": {},
   "outputs": [],
   "source": [
    "g = Graph()"
   ]
  },
  {
   "cell_type": "code",
   "execution_count": 176,
   "metadata": {},
   "outputs": [
    {
     "data": {
      "text/plain": [
       "['Alice']"
      ]
     },
     "execution_count": 176,
     "metadata": {},
     "output_type": "execute_result"
    }
   ],
   "source": [
    "g.addVertex('Alice')\n",
    "g.getVertices()"
   ]
  },
  {
   "cell_type": "code",
   "execution_count": 177,
   "metadata": {},
   "outputs": [
    {
     "data": {
      "text/plain": [
       "['Bob', 'Alice', 'Carl']"
      ]
     },
     "execution_count": 177,
     "metadata": {},
     "output_type": "execute_result"
    }
   ],
   "source": [
    "g.addVerticesFromList(['Alice', 'Bob', 'Carl'])\n",
    "g.getVertices()"
   ]
  },
  {
   "cell_type": "code",
   "execution_count": 178,
   "metadata": {},
   "outputs": [
    {
     "data": {
      "text/plain": [
       "[('Alice', 'Bob')]"
      ]
     },
     "execution_count": 178,
     "metadata": {},
     "output_type": "execute_result"
    }
   ],
   "source": [
    "g.addEdge('Alice', 'Bob')\n",
    "g.getEdges()"
   ]
  },
  {
   "cell_type": "code",
   "execution_count": 179,
   "metadata": {},
   "outputs": [
    {
     "data": {
      "text/plain": [
       "[('Alice', 'Bob'),\n",
       " ('Alice', 'Carl'),\n",
       " ('Alice', 'David'),\n",
       " ('Alice', 'Ernst'),\n",
       " ('Alice', 'Frank'),\n",
       " ('Bob', 'Gail'),\n",
       " ('Gail', 'Harry'),\n",
       " ('Harry', 'Jane'),\n",
       " ('Jane', 'Gail'),\n",
       " ('Harry', 'Irene'),\n",
       " ('Irene', 'Gail'),\n",
       " ('Irene', 'Jane'),\n",
       " ('Ernst', 'Frank'),\n",
       " ('David', 'Carl'),\n",
       " ('Carl', 'Frank')]"
      ]
     },
     "execution_count": 179,
     "metadata": {},
     "output_type": "execute_result"
    }
   ],
   "source": [
    "g.addEdgesFromList([('Bob','Alice'),\n",
    "                  ('Alice', 'Carl'),\n",
    "                  ('Alice', 'David'),\n",
    "                  ('Alice', 'Ernst'),\n",
    "                  ('Alice', 'Frank'),\n",
    "                  ('Bob', 'Gail'),\n",
    "                  ('Gail', 'Harry'),\n",
    "                  ('Harry', 'Jane'),\n",
    "                  ('Jane', 'Gail'),\n",
    "                  ('Harry', 'Irene'),\n",
    "                  ('Irene', 'Gail'),\n",
    "                  ('Irene', 'Jane'),\n",
    "                  ('Ernst', 'Frank'),\n",
    "                  ('David', 'Carl'),\n",
    "                  ('Carl', 'Frank')\n",
    "                 ])\n",
    "g.getEdges()"
   ]
  },
  {
   "cell_type": "code",
   "execution_count": 180,
   "metadata": {},
   "outputs": [
    {
     "data": {
      "text/plain": [
       "['Bob',\n",
       " 'Alice',\n",
       " 'Carl',\n",
       " 'Frank',\n",
       " 'Gail',\n",
       " 'David',\n",
       " 'Harry',\n",
       " 'Irene',\n",
       " 'Jane',\n",
       " 'Ernst']"
      ]
     },
     "execution_count": 180,
     "metadata": {},
     "output_type": "execute_result"
    }
   ],
   "source": [
    "g.getVertices()"
   ]
  },
  {
   "cell_type": "code",
   "execution_count": 181,
   "metadata": {},
   "outputs": [
    {
     "data": {
      "text/plain": [
       "[True, False]"
      ]
     },
     "execution_count": 181,
     "metadata": {},
     "output_type": "execute_result"
    }
   ],
   "source": [
    "[g.inGraph('Alice'), g.inGraph('Charlie')]"
   ]
  },
  {
   "cell_type": "code",
   "execution_count": 182,
   "metadata": {},
   "outputs": [
    {
     "data": {
      "text/plain": [
       "['Bob', 'Carl', 'David', 'Ernst', 'Frank']"
      ]
     },
     "execution_count": 182,
     "metadata": {},
     "output_type": "execute_result"
    }
   ],
   "source": [
    "g.getNeighbours('Alice')"
   ]
  },
  {
   "cell_type": "code",
   "execution_count": 183,
   "metadata": {},
   "outputs": [],
   "source": [
    "g.saveGraph('lab2task1', 'graph1')"
   ]
  },
  {
   "cell_type": "code",
   "execution_count": 184,
   "metadata": {},
   "outputs": [
    {
     "data": {
      "text/plain": [
       "{'Alice': 0,\n",
       " 'Bob': 1,\n",
       " 'Carl': 1,\n",
       " 'David': 1,\n",
       " 'Ernst': 1,\n",
       " 'Frank': 1,\n",
       " 'Gail': 2,\n",
       " 'Harry': 3,\n",
       " 'Jane': 3,\n",
       " 'Irene': 3}"
      ]
     },
     "execution_count": 184,
     "metadata": {},
     "output_type": "execute_result"
    }
   ],
   "source": [
    "g.getShortestPaths('Alice')"
   ]
  },
  {
   "cell_type": "code",
   "execution_count": 185,
   "metadata": {},
   "outputs": [
    {
     "name": "stdout",
     "output_type": "stream",
     "text": [
      "graph graph1 {\n",
      "\tAlice -- Bob;\n",
      "\tAlice -- Carl;\n",
      "\tAlice -- David;\n",
      "\tAlice -- Ernst;\n",
      "\tAlice -- Frank;\n",
      "\tBob -- Gail;\n",
      "\tGail -- Harry;\n",
      "\tHarry -- Jane;\n",
      "\tJane -- Gail;\n",
      "\tHarry -- Irene;\n",
      "\tIrene -- Gail;\n",
      "\tIrene -- Jane;\n",
      "\tErnst -- Frank;\n",
      "\tDavid -- Carl;\n",
      "\tCarl -- Frank;\n",
      "}\n"
     ]
    }
   ],
   "source": [
    "f = open('lab2task1.txt', 'r')\n",
    "file_contents = f.read()\n",
    "print(file_contents)\n",
    "f.close()"
   ]
  },
  {
   "attachments": {
    "image.png": {
     "image/png": "[encoded data removed]"
    }
   },
   "cell_type": "markdown",
   "metadata": {},
   "source": [
    "Output from http://www.webgraphviz.com/: <br>\n",
    "\n",
    "![image.png](attachment:image.png)"
   ]
  },
  {
   "cell_type": "code",
   "execution_count": 186,
   "metadata": {},
   "outputs": [],
   "source": [
    "g1 = Graph(gtype='Weighted')"
   ]
  },
  {
   "cell_type": "code",
   "execution_count": 187,
   "metadata": {},
   "outputs": [
    {
     "data": {
      "text/plain": [
       "['a']"
      ]
     },
     "execution_count": 187,
     "metadata": {},
     "output_type": "execute_result"
    }
   ],
   "source": [
    "g1.addVertex('a')\n",
    "g1.getVertices()"
   ]
  },
  {
   "cell_type": "code",
   "execution_count": 188,
   "metadata": {},
   "outputs": [
    {
     "data": {
      "text/plain": [
       "['b', 'a']"
      ]
     },
     "execution_count": 188,
     "metadata": {},
     "output_type": "execute_result"
    }
   ],
   "source": [
    "g1.addVerticesFromList(['a', 'b'])\n",
    "g1.getVertices()"
   ]
  },
  {
   "cell_type": "code",
   "execution_count": 189,
   "metadata": {},
   "outputs": [
    {
     "data": {
      "text/plain": [
       "[{('a', 'b'): 0.5}]"
      ]
     },
     "execution_count": 189,
     "metadata": {},
     "output_type": "execute_result"
    }
   ],
   "source": [
    "g1.addEdge('a', 'b', weight=1/2)\n",
    "g1.getEdges()"
   ]
  },
  {
   "cell_type": "code",
   "execution_count": 190,
   "metadata": {},
   "outputs": [
    {
     "data": {
      "text/plain": [
       "[{('a', 'b'): 0.5}, {('b', 'c'): 0.25}, {('b', 'd'): 0.25}]"
      ]
     },
     "execution_count": 190,
     "metadata": {},
     "output_type": "execute_result"
    }
   ],
   "source": [
    "g1.addEdgesFromList([('a', 'b'), ('b', 'c'), ('b', 'd')], [1/2, 1/4, 1/4])\n",
    "g1.getEdges()"
   ]
  },
  {
   "cell_type": "code",
   "execution_count": 191,
   "metadata": {},
   "outputs": [
    {
     "data": {
      "text/plain": [
       "['b', 'a', 'd', 'c']"
      ]
     },
     "execution_count": 191,
     "metadata": {},
     "output_type": "execute_result"
    }
   ],
   "source": [
    "g1.getVertices()"
   ]
  },
  {
   "cell_type": "code",
   "execution_count": 192,
   "metadata": {},
   "outputs": [
    {
     "data": {
      "text/plain": [
       "[True, False]"
      ]
     },
     "execution_count": 192,
     "metadata": {},
     "output_type": "execute_result"
    }
   ],
   "source": [
    "[g1.inGraph('a'), g1.inGraph('e')]"
   ]
  },
  {
   "cell_type": "code",
   "execution_count": 193,
   "metadata": {},
   "outputs": [
    {
     "data": {
      "text/plain": [
       "['a', 'c', 'd']"
      ]
     },
     "execution_count": 193,
     "metadata": {},
     "output_type": "execute_result"
    }
   ],
   "source": [
    "g1.getNeighbours('b')"
   ]
  },
  {
   "cell_type": "code",
   "execution_count": 194,
   "metadata": {},
   "outputs": [],
   "source": [
    "g1.saveGraph('lab2task1b', 'graph2')"
   ]
  },
  {
   "cell_type": "code",
   "execution_count": 195,
   "metadata": {},
   "outputs": [
    {
     "data": {
      "text/plain": [
       "{'d': 0, 'b': 1, 'a': 2, 'c': 2}"
      ]
     },
     "execution_count": 195,
     "metadata": {},
     "output_type": "execute_result"
    }
   ],
   "source": [
    "g1.getShortestPaths('d')"
   ]
  },
  {
   "cell_type": "code",
   "execution_count": 196,
   "metadata": {},
   "outputs": [
    {
     "name": "stdout",
     "output_type": "stream",
     "text": [
      "graph graph2 {\n",
      "\ta -- b [label=0.5];\n",
      "\tb -- c [label=0.25];\n",
      "\tb -- d [label=0.25];\n",
      "}\n"
     ]
    }
   ],
   "source": [
    "f = open('lab2task1b.txt', 'r')\n",
    "file_contents = f.read()\n",
    "print(file_contents)\n",
    "f.close()"
   ]
  },
  {
   "attachments": {
    "obraz.png": {
     "image/png": "[encoded data removed]"
    }
   },
   "cell_type": "markdown",
   "metadata": {},
   "source": [
    "![obraz.png](attachment:obraz.png)"
   ]
  },
  {
   "cell_type": "code",
   "execution_count": null,
   "metadata": {},
   "outputs": [],
   "source": []
  }
 ],
 "metadata": {
  "kernelspec": {
   "display_name": "Python 3",
   "language": "python",
   "name": "python3"
  },
  "language_info": {
   "codemirror_mode": {
    "name": "ipython",
    "version": 3
   },
   "file_extension": ".py",
   "mimetype": "text/x-python",
   "name": "python",
   "nbconvert_exporter": "python",
   "pygments_lexer": "ipython3",
   "version": "3.8.1"
  }
 },
 "nbformat": 4,
 "nbformat_minor": 4
}
